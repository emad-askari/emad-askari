{
  "nbformat": 4,
  "nbformat_minor": 0,
  "metadata": {
    "colab": {
      "name": "Genetic_Algorithm_Optimization.ipynb",
      "provenance": [],
      "collapsed_sections": [],
      "include_colab_link": true
    },
    "kernelspec": {
      "name": "python3",
      "display_name": "Python 3"
    }
  },
  "cells": [
    {
      "cell_type": "markdown",
      "metadata": {
        "id": "view-in-github",
        "colab_type": "text"
      },
      "source": [
        "<a href=\"https://colab.research.google.com/github/emad-askari/emad-askari/blob/main/Genetic_Algorithm_Optimization.ipynb\" target=\"_parent\"><img src=\"https://colab.research.google.com/assets/colab-badge.svg\" alt=\"Open In Colab\"/></a>"
      ]
    },
    {
      "cell_type": "markdown",
      "source": [
        "\n",
        "$\\Large{GA}$ - $Genetic\\ Algorithm$\n",
        "\n",
        "---"
      ],
      "metadata": {
        "id": "2u8rL8OxRfko"
      }
    },
    {
      "cell_type": "markdown",
      "source": [
        "```python\n",
        "def GA(cost_func, popN, genN, cost_threshold, LB, UB, aristocratN, adventurerN):\n",
        "  ...\n",
        "  return pop, cost, num_gen\n",
        "```\n",
        "$\\underline{\\large{Inputs;}}\\\\\n",
        "- cost\\underline\\ func=the\\ function\\ that\\ we\\ want\\ to\\ minimize\\\\\n",
        "- popN=population\\ in\\ each\\ generation\\\\\n",
        "- genN=maximum\\ number\\ of\\ generations\\\\\n",
        "- cost\\underline\\ threshold=the\\ generation\\ stops\\ when\\ the\\ variation\\ of\\ the\\ lowest\\ cost\\ drops\\ below\\ this\\ value\\\\\n",
        "- LB=lower\\ bound\\ (of\\ exploration)\\\\\n",
        "- UB=upper\\ bound\\ (of\\ exploration)\\\\\n",
        "- aristocratN=number\\ of\\ individuals\\ that\\ are\\ chosen\\ to\\ be\\ taken\\ to\\ the\\ next\\ generation\\ without\\ any\\ changes \\\\\n",
        "- adventurerN= number\\ of\\ individuals\\ generated\\ randomly\\ within\\ the\\ bounds\\ to\\ explore\\ other\\ possible\\ answers$\n",
        "\n",
        "$\\underline{\\large{Outpus;}}\\\\\n",
        "- pop=matrix\\ of\\ populations\\ \\small(row=population,\\ column=generations)\\\\\n",
        "- cost=cost\\ of\\ each\\ individual\\ in\\ each\\ generation\\\\\n",
        "- num\\underline\\ gen=number\\ of\\ generations\\\\\n",
        "$"
      ],
      "metadata": {
        "id": "Wr3xfSZpQ4Lu"
      }
    },
    {
      "cell_type": "code",
      "metadata": {
        "id": "9eFecnpRejJC"
      },
      "source": [
        "def GA(cost_func, popN, genN, cost_threshold, LB, UB, aristocratN, adventurerN):\n",
        "  import numpy as np\n",
        "  import matplotlib.pyplot as plt\n",
        "\n",
        "  childrenN  = popN - aristocratN - adventurerN\n",
        "\n",
        "  pop  = np.random.uniform(LB, UB, popN)\n",
        "  cost = cost_func(pop)\n",
        "  sort_indx   = np.argsort(cost)\n",
        "\n",
        "  pop  =  pop[sort_indx].reshape(popN, 1)\n",
        "  cost = cost[sort_indx].reshape(popN, 1)\n",
        "\n",
        "  for i in range(1, genN):\n",
        "\n",
        "    aristocrat = pop[0:aristocratN, i-1]\n",
        "\n",
        "    children = np.zeros(childrenN)\n",
        "    for j in range(childrenN):\n",
        "      children[j] = (pop[j, i-1] + pop[j+1, i-1])/2\n",
        "\n",
        "    adventurer = np.random.uniform(LB, UB, adventurerN)\n",
        "\n",
        "    next_pop = np.append(aristocrat, children)\n",
        "    next_pop = np.append(next_pop, adventurer)\n",
        "    next_cost = cost_func(next_pop)\n",
        "    sort_indx = np.argsort(next_cost)\n",
        "\n",
        "    pop  =  np.append( pop,  next_pop[sort_indx].reshape(popN, 1), axis=1)\n",
        "    cost =  np.append(cost, next_cost[sort_indx].reshape(popN, 1), axis=1)\n",
        "    \n",
        "    # if pop_threshold > np.var(pop[:,-1]): break\n",
        "\n",
        "    if cost_threshold > np.var(cost[0,:]):\n",
        "      print()\n",
        "      break\n",
        "\n",
        "  num_gen = i+1\n",
        "\n",
        "  return pop, cost, num_gen\n"
      ],
      "execution_count": null,
      "outputs": []
    },
    {
      "cell_type": "code",
      "metadata": {
        "id": "TnAuNIiUnP7-",
        "colab": {
          "base_uri": "https://localhost:8080/",
          "height": 856
        },
        "outputId": "a7375d7b-2d96-4556-d715-e20dd0a221b8"
      },
      "source": [
        "import numpy as np\n",
        "import matplotlib.pyplot as plt\n",
        "\n",
        "t = np.arange(-4.3, 5.3, 0.01)\n",
        "fn = lambda x: (x**6 - 2*x**5 - 26*x**4 + 28*x**3 + 145*x**2 - 26*x - 80) /100\n",
        "popN = 3\n",
        "iter = 1000\n",
        "pop_threshold  = 0.1\n",
        "cost_threshold = 0.1\n",
        "LB = -5\n",
        "UB = +5\n",
        "aristocratN =  1\n",
        "adventurerN =  1\n",
        "\n",
        "pop, cost, num_iter = GA(fn, popN, iter, cost_threshold, LB, UB, aristocratN, adventurerN)\n",
        "\n",
        "print(num_iter)\n",
        "\n",
        "plt.figure(1, [7,7])\n",
        "plt.plot(t, fn(t))\n",
        "plt.grid('on')\n",
        "\n",
        "plt.figure(2, [20,7])\n",
        "plt.plot(pop[0,:], label='best point')\n",
        "plt.plot(cost[0,:], label='least cost')\n",
        "plt.grid('on')\n",
        "plt.show()"
      ],
      "execution_count": null,
      "outputs": [
        {
          "output_type": "stream",
          "name": "stdout",
          "text": [
            "2\n"
          ]
        },
        {
          "output_type": "display_data",
          "data": {
            "text/plain": [
              "<Figure size 504x504 with 1 Axes>"
            ],
            "image/png": "[encoded data removed]"
          },
          "metadata": {
            "needs_background": "light"
          }
        },
        {
          "output_type": "display_data",
          "data": {
            "text/plain": [
              "<Figure size 1440x504 with 1 Axes>"
            ],
            "image/png": "[encoded data removed]"
          },
          "metadata": {
            "needs_background": "light"
          }
        }
      ]
    },
    {
      "cell_type": "code",
      "source": [
        "num_iter"
      ],
      "metadata": {
        "colab": {
          "base_uri": "https://localhost:8080/"
        },
        "id": "I8V0LulN3-n5",
        "outputId": "391d2f76-0761-43ea-e4f0-3da4c4cc830d"
      },
      "execution_count": null,
      "outputs": [
        {
          "output_type": "execute_result",
          "data": {
            "text/plain": [
              "1"
            ]
          },
          "metadata": {},
          "execution_count": 113
        }
      ]
    }
  ]
}